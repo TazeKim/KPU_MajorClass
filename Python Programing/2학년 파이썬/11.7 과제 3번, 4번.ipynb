{
 "cells": [
  {
   "cell_type": "code",
   "execution_count": 3,
   "metadata": {},
   "outputs": [],
   "source": [
    "import csv"
   ]
  },
  {
   "cell_type": "code",
   "execution_count": 23,
   "metadata": {},
   "outputs": [
    {
     "name": "stdout",
     "output_type": "stream",
     "text": [
      "신림 930126 명\n"
     ]
    }
   ],
   "source": [
    "#출근시간(오전 6~10시) 승차승객이 가장 많은 역\n",
    "df = open('subwaytime.csv')\n",
    "data = csv.reader(df)\n",
    "next(data)\n",
    "next(data)\n",
    "max_in = 0\n",
    "max_name = ''\n",
    "for row in data :\n",
    "    row[4:] = map(int, row[4:])\n",
    "    if sum(row[8:17:2])>max_in:\n",
    "        max_in = sum(row[8:17:2])\n",
    "        max_name = row[3]\n",
    "print(max_name,max_in,\"명\")"
   ]
  },
  {
   "cell_type": "code",
   "execution_count": 22,
   "metadata": {},
   "outputs": [
    {
     "name": "stdout",
     "output_type": "stream",
     "text": [
      "강남 1044817 명\n"
     ]
    }
   ],
   "source": [
    "#출근시간(오전 6~10시) 하차승객이 가장 많은 역\n",
    "df = open('subwaytime.csv')\n",
    "data = csv.reader(df)\n",
    "next(data)\n",
    "next(data)\n",
    "max_out = 0\n",
    "max_name = ''\n",
    "for row in data :\n",
    "    row[4:] = map(int, row[4:])\n",
    "    if sum(row[9:18:2])>max_out:\n",
    "        max_out = sum(row[9:18:2])\n",
    "        max_name = row[3]\n",
    "print(max_name,max_out,\"명\")"
   ]
  },
  {
   "cell_type": "code",
   "execution_count": 20,
   "metadata": {},
   "outputs": [
    {
     "name": "stdout",
     "output_type": "stream",
     "text": [
      "강남 24666 명\n"
     ]
    }
   ],
   "source": [
    "#퇴근시간(오후 5시~8시)  승차승객이 가장 많은 역\n",
    "df = open('subwaytime.csv')\n",
    "data = csv.reader(df)\n",
    "next(data)\n",
    "next(data)\n",
    "max_in = 0\n",
    "max_name = ''\n",
    "for row in data :\n",
    "    row[4:] = map(int, row[4:])\n",
    "    if sum(row[30:37:2])>max_in:\n",
    "        max_in = sum(row[30:37:2])\n",
    "        max_name = row[3]\n",
    "        \n",
    "max_in = sum(row[30:37:2])\n",
    "print(max_name,max_in,\"명\")"
   ]
  },
  {
   "cell_type": "code",
   "execution_count": 21,
   "metadata": {},
   "outputs": [
    {
     "name": "stdout",
     "output_type": "stream",
     "text": [
      "홍대입구 805271 명\n"
     ]
    }
   ],
   "source": [
    "#퇴근시간(오후 5시~8시)  하차승객이 가장 많은 역\n",
    "df = open('subwaytime.csv')\n",
    "data = csv.reader(df)\n",
    "next(data)\n",
    "next(data)\n",
    "max_in = 0\n",
    "max_name = ''\n",
    "for row in data :\n",
    "    row[4:] = map(int, row[4:])\n",
    "    if sum(row[31:38:2])>max_in:\n",
    "        max_in = sum(row[31:38:2])\n",
    "        max_name = row[3]\n",
    "print(max_name,max_in,\"명\")"
   ]
  },
  {
   "cell_type": "code",
   "execution_count": null,
   "metadata": {},
   "outputs": [],
   "source": []
  }
 ],
 "metadata": {
  "kernelspec": {
   "display_name": "Python 3",
   "language": "python",
   "name": "python3"
  },
  "language_info": {
   "codemirror_mode": {
    "name": "ipython",
    "version": 3
   },
   "file_extension": ".py",
   "mimetype": "text/x-python",
   "name": "python",
   "nbconvert_exporter": "python",
   "pygments_lexer": "ipython3",
   "version": "3.7.3"
  }
 },
 "nbformat": 4,
 "nbformat_minor": 2
}
