{
 "cells": [
  {
   "cell_type": "code",
   "execution_count": 1,
   "metadata": {},
   "outputs": [],
   "source": [
    "import numpy as np\n",
    "import pandas as pd\n",
    "from pandas import DataFrame as df"
   ]
  },
  {
   "cell_type": "code",
   "execution_count": 2,
   "metadata": {},
   "outputs": [
    {
     "data": {
      "text/html": [
       "<div>\n",
       "<style scoped>\n",
       "    .dataframe tbody tr th:only-of-type {\n",
       "        vertical-align: middle;\n",
       "    }\n",
       "\n",
       "    .dataframe tbody tr th {\n",
       "        vertical-align: top;\n",
       "    }\n",
       "\n",
       "    .dataframe thead th {\n",
       "        text-align: right;\n",
       "    }\n",
       "</style>\n",
       "<table border=\"1\" class=\"dataframe\">\n",
       "  <thead>\n",
       "    <tr style=\"text-align: right;\">\n",
       "      <th></th>\n",
       "      <th>년도</th>\n",
       "      <th>구분</th>\n",
       "      <th>죄종</th>\n",
       "      <th>발생검거</th>\n",
       "      <th>건수</th>\n",
       "    </tr>\n",
       "  </thead>\n",
       "  <tbody>\n",
       "    <tr>\n",
       "      <th>0</th>\n",
       "      <td>2011</td>\n",
       "      <td>중부</td>\n",
       "      <td>살인</td>\n",
       "      <td>발생</td>\n",
       "      <td>2</td>\n",
       "    </tr>\n",
       "    <tr>\n",
       "      <th>1</th>\n",
       "      <td>2011</td>\n",
       "      <td>중부</td>\n",
       "      <td>살인</td>\n",
       "      <td>검거</td>\n",
       "      <td>3</td>\n",
       "    </tr>\n",
       "    <tr>\n",
       "      <th>2</th>\n",
       "      <td>2011</td>\n",
       "      <td>중부</td>\n",
       "      <td>강도</td>\n",
       "      <td>발생</td>\n",
       "      <td>14</td>\n",
       "    </tr>\n",
       "    <tr>\n",
       "      <th>3</th>\n",
       "      <td>2011</td>\n",
       "      <td>중부</td>\n",
       "      <td>강도</td>\n",
       "      <td>검거</td>\n",
       "      <td>19</td>\n",
       "    </tr>\n",
       "    <tr>\n",
       "      <th>4</th>\n",
       "      <td>2011</td>\n",
       "      <td>중부</td>\n",
       "      <td>강간</td>\n",
       "      <td>발생</td>\n",
       "      <td>89</td>\n",
       "    </tr>\n",
       "  </tbody>\n",
       "</table>\n",
       "</div>"
      ],
      "text/plain": [
       "     년도  구분  죄종 발생검거  건수\n",
       "0  2011  중부  살인   발생   2\n",
       "1  2011  중부  살인   검거   3\n",
       "2  2011  중부  강도   발생  14\n",
       "3  2011  중부  강도   검거  19\n",
       "4  2011  중부  강간   발생  89"
      ]
     },
     "execution_count": 2,
     "metadata": {},
     "output_type": "execute_result"
    }
   ],
   "source": [
    "crimedata = pd.read_csv('crime_data.csv',encoding='cp949')\n",
    "crimedata.head()"
   ]
  },
  {
   "cell_type": "code",
   "execution_count": 3,
   "metadata": {},
   "outputs": [
    {
     "ename": "NameError",
     "evalue": "name 'local' is not defined",
     "output_type": "error",
     "traceback": [
      "\u001b[1;31m---------------------------------------------------------------------------\u001b[0m",
      "\u001b[1;31mNameError\u001b[0m                                 Traceback (most recent call last)",
      "\u001b[1;32m<ipython-input-3-e5a2189675ef>\u001b[0m in \u001b[0;36m<module>\u001b[1;34m\u001b[0m\n\u001b[0;32m      3\u001b[0m \u001b[0mj\u001b[0m\u001b[1;33m=\u001b[0m\u001b[1;36m0\u001b[0m\u001b[1;33m\u001b[0m\u001b[1;33m\u001b[0m\u001b[0m\n\u001b[0;32m      4\u001b[0m \u001b[1;33m\u001b[0m\u001b[0m\n\u001b[1;32m----> 5\u001b[1;33m \u001b[1;32mfor\u001b[0m \u001b[0mj\u001b[0m \u001b[1;32min\u001b[0m \u001b[0mrange\u001b[0m\u001b[1;33m(\u001b[0m\u001b[0mlen\u001b[0m\u001b[1;33m(\u001b[0m\u001b[0mlocal\u001b[0m\u001b[1;33m)\u001b[0m\u001b[1;33m)\u001b[0m\u001b[1;33m:\u001b[0m\u001b[1;33m\u001b[0m\u001b[1;33m\u001b[0m\u001b[0m\n\u001b[0m\u001b[0;32m      6\u001b[0m     \u001b[0mprint\u001b[0m\u001b[1;33m(\u001b[0m\u001b[1;33m)\u001b[0m\u001b[1;33m\u001b[0m\u001b[1;33m\u001b[0m\u001b[0m\n\u001b[0;32m      7\u001b[0m     \u001b[1;32mfor\u001b[0m \u001b[0mi\u001b[0m \u001b[1;32min\u001b[0m \u001b[0mrange\u001b[0m\u001b[1;33m(\u001b[0m\u001b[1;36m2011\u001b[0m\u001b[1;33m,\u001b[0m\u001b[1;36m2019\u001b[0m\u001b[1;33m)\u001b[0m\u001b[1;33m:\u001b[0m\u001b[1;33m\u001b[0m\u001b[1;33m\u001b[0m\u001b[0m\n",
      "\u001b[1;31mNameError\u001b[0m: name 'local' is not defined"
     ]
    }
   ],
   "source": [
    "#연도별 서울시 총 범죄 발생\n",
    "a=0\n",
    "j=0\n",
    "\n",
    "for j in range(len(local)):\n",
    "    print()\n",
    "    for i in range(2011,2019):\n",
    "        seoul=crimedata[crimedata['년도']== i]\n",
    "        seoul=seoul[seoul['발생검거']=='발생']\n",
    "        a = seoul['건수'].sum()\n",
    "        print(i,':',a)"
   ]
  },
  {
   "cell_type": "code",
   "execution_count": 4,
   "metadata": {},
   "outputs": [
    {
     "name": "stdout",
     "output_type": "stream",
     "text": [
      "\n"
     ]
    },
    {
     "ename": "NameError",
     "evalue": "name 'local' is not defined",
     "output_type": "error",
     "traceback": [
      "\u001b[1;31m---------------------------------------------------------------------------\u001b[0m",
      "\u001b[1;31mNameError\u001b[0m                                 Traceback (most recent call last)",
      "\u001b[1;32m<ipython-input-4-0fe88312aee1>\u001b[0m in \u001b[0;36m<module>\u001b[1;34m\u001b[0m\n\u001b[0;32m      6\u001b[0m     \u001b[0mprint\u001b[0m\u001b[1;33m(\u001b[0m\u001b[1;33m)\u001b[0m\u001b[1;33m\u001b[0m\u001b[1;33m\u001b[0m\u001b[0m\n\u001b[0;32m      7\u001b[0m     \u001b[0ma\u001b[0m\u001b[1;33m=\u001b[0m\u001b[1;36m0\u001b[0m\u001b[1;33m\u001b[0m\u001b[1;33m\u001b[0m\u001b[0m\n\u001b[1;32m----> 8\u001b[1;33m     \u001b[1;32mfor\u001b[0m \u001b[0mi\u001b[0m \u001b[1;32min\u001b[0m \u001b[0mrange\u001b[0m\u001b[1;33m(\u001b[0m\u001b[0mlen\u001b[0m\u001b[1;33m(\u001b[0m\u001b[0mlocal\u001b[0m\u001b[1;33m)\u001b[0m\u001b[1;33m)\u001b[0m\u001b[1;33m:\u001b[0m\u001b[1;33m\u001b[0m\u001b[1;33m\u001b[0m\u001b[0m\n\u001b[0m\u001b[0;32m      9\u001b[0m         \u001b[0mseoul\u001b[0m\u001b[1;33m=\u001b[0m\u001b[0mcrimedata\u001b[0m\u001b[1;33m[\u001b[0m\u001b[0mcrimedata\u001b[0m\u001b[1;33m[\u001b[0m\u001b[1;34m'구분'\u001b[0m\u001b[1;33m]\u001b[0m\u001b[1;33m==\u001b[0m\u001b[0mlocal\u001b[0m\u001b[1;33m[\u001b[0m\u001b[0mi\u001b[0m\u001b[1;33m]\u001b[0m\u001b[1;33m]\u001b[0m\u001b[1;33m\u001b[0m\u001b[1;33m\u001b[0m\u001b[0m\n\u001b[0;32m     10\u001b[0m         \u001b[0mseoul\u001b[0m\u001b[1;33m=\u001b[0m\u001b[0mseoul\u001b[0m\u001b[1;33m[\u001b[0m\u001b[0mseoul\u001b[0m\u001b[1;33m[\u001b[0m\u001b[1;34m'년도'\u001b[0m\u001b[1;33m]\u001b[0m\u001b[1;33m==\u001b[0m \u001b[0mj\u001b[0m\u001b[1;33m]\u001b[0m\u001b[1;33m\u001b[0m\u001b[1;33m\u001b[0m\u001b[0m\n",
      "\u001b[1;31mNameError\u001b[0m: name 'local' is not defined"
     ]
    }
   ],
   "source": [
    "#연도 및 서울시 각 구별 총 범죄 발생\n",
    "a=0\n",
    "j=0\n",
    "\n",
    "for j in range(2011,2019):\n",
    "    print()\n",
    "    a=0\n",
    "    for i in range(len(local)):\n",
    "        seoul=crimedata[crimedata['구분']==local[i]]\n",
    "        seoul=seoul[seoul['년도']== j]\n",
    "        seoul=seoul[seoul['발생검거']=='발생']\n",
    "        a = seoul['건수'].sum()\n",
    "        print(j,local[i],':',a)"
   ]
  },
  {
   "cell_type": "code",
   "execution_count": 5,
   "metadata": {},
   "outputs": [
    {
     "data": {
      "text/plain": [
       "range(0, 31)"
      ]
     },
     "execution_count": 5,
     "metadata": {},
     "output_type": "execute_result"
    }
   ],
   "source": [
    "local=list(set(crimedata['구분']))\n",
    "local\n",
    "len(local)\n",
    "range(len(local))"
   ]
  },
  {
   "cell_type": "code",
   "execution_count": 6,
   "metadata": {},
   "outputs": [
    {
     "name": "stdout",
     "output_type": "stream",
     "text": [
      "[2011, 2012, 2013, 2014, 2015, 2016, 2017, 2018]\n"
     ]
    }
   ],
   "source": [
    "year=list(set(crimedata['년도']))\n",
    "year.sort()\n",
    "print(year)"
   ]
  },
  {
   "cell_type": "code",
   "execution_count": 7,
   "metadata": {},
   "outputs": [
    {
     "name": "stdout",
     "output_type": "stream",
     "text": [
      "\n",
      "성동 : 25217\n",
      "\n",
      "도봉 : 22563\n",
      "\n",
      "혜화 : 18234\n",
      "\n",
      "강서 : 44602\n",
      "\n",
      "영등포 : 53370\n",
      "\n",
      "관악 : 50438\n",
      "\n",
      "종암 : 14964\n",
      "\n",
      "노원 : 38231\n",
      "\n",
      "양천 : 34620\n",
      "\n",
      "용산 : 31375\n",
      "\n",
      "서대문 : 30509\n",
      "\n",
      "중랑 : 41421\n",
      "\n",
      "남대문 : 15988\n",
      "\n",
      "강남 : 43415\n",
      "\n",
      "구로 : 43618\n",
      "\n",
      "방배 : 9898\n",
      "\n",
      "서부 : 16259\n",
      "\n",
      "금천 : 29973\n",
      "\n",
      "동작 : 30069\n",
      "\n",
      "송파 : 55392\n",
      "\n",
      "마포 : 44483\n",
      "\n",
      "종로 : 18826\n",
      "\n",
      "강동 : 40146\n",
      "\n",
      "동대문 : 36678\n",
      "\n",
      "수서 : 27209\n",
      "\n",
      "은평 : 22122\n",
      "\n",
      "성북 : 17862\n",
      "\n",
      "강북 : 32050\n",
      "\n",
      "광진 : 44020\n",
      "\n",
      "서초 : 32168\n",
      "\n",
      "중부 : 22597\n"
     ]
    }
   ],
   "source": [
    "#서울시 각 구의 총 범죄 발생 건수\n",
    "a=0\n",
    "j=0\n",
    "for j in range(len(local)):\n",
    "    print()\n",
    "    a=0\n",
    "    for i in range(2011,2019):\n",
    "        seoul=crimedata[crimedata['구분']==local[j]]\n",
    "        seoul=seoul[seoul['년도']== i]\n",
    "        seoul=seoul[seoul['발생검거']=='발생']\n",
    "        a += seoul['건수'].sum()\n",
    "    print(local[j],':',a)"
   ]
  },
  {
   "cell_type": "code",
   "execution_count": 8,
   "metadata": {},
   "outputs": [
    {
     "name": "stdout",
     "output_type": "stream",
     "text": [
      "2011~2018년간 서울시 전체 범죄사건 발생 건수 :\n",
      "988317\n"
     ]
    }
   ],
   "source": [
    "#서울시 전체 범죄 발생 건수\n",
    "a=0\n",
    "j=0\n",
    "for j in range(len(local)):\n",
    "    for i in range(2011,2019):\n",
    "        seoulcity=crimedata[crimedata['구분']==local[j]]\n",
    "        seoulcity=seoulcity[seoulcity['년도']== i]\n",
    "        seoulcity=seoulcity[seoulcity['발생검거']=='발생']\n",
    "        a += seoulcity['건수'].sum()\n",
    "print(\"2011~2018년간 서울시 전체 범죄사건 발생 건수 :\")\n",
    "print(a)"
   ]
  },
  {
   "cell_type": "code",
   "execution_count": 20,
   "metadata": {},
   "outputs": [
    {
     "name": "stdout",
     "output_type": "stream",
     "text": [
      "서울시 각 구의 총 범죄 검거 건수\n",
      "\n",
      "강남 : 27027\n",
      "\n",
      "강동 : 25998\n",
      "\n",
      "혜화 : 12114\n",
      "\n",
      "마포 : 26918\n",
      "\n",
      "영등포 : 33030\n",
      "\n",
      "중랑 : 28718\n",
      "\n",
      "동대문 : 25420\n",
      "\n",
      "남대문 : 10603\n",
      "\n",
      "서부 : 11193\n",
      "\n",
      "용산 : 20962\n",
      "\n",
      "양천 : 21514\n",
      "\n",
      "노원 : 24981\n",
      "\n",
      "관악 : 30915\n",
      "\n",
      "강서 : 30065\n",
      "\n",
      "송파 : 31332\n",
      "\n",
      "종암 : 10128\n",
      "\n",
      "성동 : 16302\n",
      "\n",
      "서초 : 19958\n",
      "\n",
      "동작 : 18159\n",
      "\n",
      "중부 : 13935\n",
      "\n",
      "서대문 : 19872\n",
      "\n",
      "방배 : 6194\n",
      "\n",
      "종로 : 12673\n",
      "\n",
      "도봉 : 15324\n",
      "\n",
      "수서 : 17247\n",
      "\n",
      "금천 : 21424\n",
      "\n",
      "은평 : 15085\n",
      "\n",
      "성북 : 11498\n",
      "\n",
      "광진 : 27906\n",
      "\n",
      "구로 : 27560\n",
      "\n",
      "강북 : 23704\n"
     ]
    }
   ],
   "source": [
    "#서울시 각 구의 총 범죄 검거 건수\n",
    "y=0\n",
    "j=0\n",
    "print(\"서울시 각 구의 총 범죄 검거 건수\")\n",
    "for j in range(len(local)):\n",
    "    print()\n",
    "    y=0\n",
    "    for i in range(2011,2019):\n",
    "        seoul=crimedata[crimedata['구분']==local[j]]\n",
    "        seoul=seoul[seoul['년도']== i]\n",
    "        seoul=seoul[seoul['발생검거']=='검거']\n",
    "        y += seoul['건수'].sum()\n",
    "    print(local[j],':',y)"
   ]
  },
  {
   "cell_type": "code",
   "execution_count": 9,
   "metadata": {},
   "outputs": [
    {
     "name": "stdout",
     "output_type": "stream",
     "text": [
      "2011 ~ 2018년간 종로 범죄사건 검거 건수 :\n",
      "12673\n"
     ]
    }
   ],
   "source": [
    "b=0\n",
    "for i in range(2011,2019):\n",
    "    jongro=crimedata[crimedata['구분']=='종로']\n",
    "    jongro=jongro[jongro['년도']== i]\n",
    "    jongro=jongro[jongro['발생검거']=='검거']\n",
    "    b += jongro['건수'].sum()\n",
    "print(\"2011 ~ 2018년간 종로 범죄사건 검거 건수 :\")\n",
    "print(b)"
   ]
  },
  {
   "cell_type": "code",
   "execution_count": 12,
   "metadata": {},
   "outputs": [
    {
     "name": "stdout",
     "output_type": "stream",
     "text": [
      "\n",
      "성동 검거율 : 64.65 %\n",
      "\n",
      "도봉 검거율 : 67.92 %\n",
      "\n",
      "혜화 검거율 : 66.44 %\n",
      "\n",
      "강서 검거율 : 67.41 %\n",
      "\n",
      "영등포 검거율 : 61.89 %\n",
      "\n",
      "관악 검거율 : 61.29 %\n",
      "\n",
      "종암 검거율 : 67.68 %\n",
      "\n",
      "노원 검거율 : 65.34 %\n",
      "\n",
      "양천 검거율 : 62.14 %\n",
      "\n",
      "용산 검거율 : 66.81 %\n",
      "\n",
      "서대문 검거율 : 65.13 %\n",
      "\n",
      "중랑 검거율 : 69.33 %\n",
      "\n",
      "남대문 검거율 : 66.32 %\n",
      "\n",
      "강남 검거율 : 62.25 %\n",
      "\n",
      "구로 검거율 : 63.18 %\n",
      "\n",
      "방배 검거율 : 62.58 %\n",
      "\n",
      "서부 검거율 : 68.84 %\n",
      "\n",
      "금천 검거율 : 71.48 %\n",
      "\n",
      "동작 검거율 : 60.39 %\n",
      "\n",
      "송파 검거율 : 56.56 %\n",
      "\n",
      "마포 검거율 : 60.51 %\n",
      "\n",
      "종로 검거율 : 67.32 %\n",
      "\n",
      "강동 검거율 : 64.76 %\n",
      "\n",
      "동대문 검거율 : 69.31 %\n",
      "\n",
      "수서 검거율 : 63.39 %\n",
      "\n",
      "은평 검거율 : 68.19 %\n",
      "\n",
      "성북 검거율 : 64.37 %\n",
      "\n",
      "강북 검거율 : 73.96 %\n",
      "\n",
      "광진 검거율 : 63.39 %\n",
      "\n",
      "서초 검거율 : 62.04 %\n",
      "\n",
      "중부 검거율 : 61.67 %\n"
     ]
    }
   ],
   "source": [
    "#서울시 각 구의 총 범죄 발생 건수   \n",
    "a=0\n",
    "j=0\n",
    "y=0\n",
    "for j in range(len(local)):\n",
    "    print()\n",
    "    a=0\n",
    "    y=0\n",
    "    for i in range(2011,2019):\n",
    "        seoul=crimedata[crimedata['구분']==local[j]]\n",
    "        seoul=seoul[seoul['년도']== i]\n",
    "        seoul=seoul[seoul['발생검거']=='발생']\n",
    "        a += seoul['건수'].sum()\n",
    "        \n",
    "        seoul=crimedata[crimedata['구분']==local[j]]\n",
    "        seoul=seoul[seoul['년도']== i]\n",
    "        seoul=seoul[seoul['발생검거']=='검거']\n",
    "        y += seoul['건수'].sum()\n",
    "        \n",
    "    print(local[j],\"검거율\",':',round(y/a*100,2),'%')"
   ]
  },
  {
   "cell_type": "code",
   "execution_count": 11,
   "metadata": {},
   "outputs": [],
   "source": [
    "import matplotlib.pyplot as plt"
   ]
  },
  {
   "cell_type": "code",
   "execution_count": 13,
   "metadata": {},
   "outputs": [
    {
     "name": "stdout",
     "output_type": "stream",
     "text": [
      "\n",
      "성동 검거율 : 64.65 %\n",
      "\n",
      "도봉 검거율 : 67.92 %\n",
      "\n",
      "혜화 검거율 : 66.44 %\n",
      "\n",
      "강서 검거율 : 67.41 %\n",
      "\n",
      "영등포 검거율 : 61.89 %\n",
      "\n",
      "관악 검거율 : 61.29 %\n",
      "\n",
      "종암 검거율 : 67.68 %\n",
      "\n",
      "노원 검거율 : 65.34 %\n",
      "\n",
      "양천 검거율 : 62.14 %\n",
      "\n",
      "용산 검거율 : 66.81 %\n",
      "\n",
      "서대문 검거율 : 65.13 %\n",
      "\n",
      "중랑 검거율 : 69.33 %\n",
      "\n",
      "남대문 검거율 : 66.32 %\n",
      "\n",
      "강남 검거율 : 62.25 %\n",
      "\n",
      "구로 검거율 : 63.18 %\n",
      "\n",
      "방배 검거율 : 62.58 %\n",
      "\n",
      "서부 검거율 : 68.84 %\n",
      "\n",
      "금천 검거율 : 71.48 %\n",
      "\n",
      "동작 검거율 : 60.39 %\n",
      "\n",
      "송파 검거율 : 56.56 %\n",
      "\n",
      "마포 검거율 : 60.51 %\n",
      "\n",
      "종로 검거율 : 67.32 %\n",
      "\n",
      "강동 검거율 : 64.76 %\n",
      "\n",
      "동대문 검거율 : 69.31 %\n",
      "\n",
      "수서 검거율 : 63.39 %\n",
      "\n",
      "은평 검거율 : 68.19 %\n",
      "\n",
      "성북 검거율 : 64.37 %\n",
      "\n",
      "강북 검거율 : 73.96 %\n",
      "\n",
      "광진 검거율 : 63.39 %\n",
      "\n",
      "서초 검거율 : 62.04 %\n",
      "\n",
      "중부 검거율 : 61.67 %\n"
     ]
    },
    {
     "ename": "TypeError",
     "evalue": "`bins` must be an integer, a string, or an array",
     "output_type": "error",
     "traceback": [
      "\u001b[1;31m---------------------------------------------------------------------------\u001b[0m",
      "\u001b[1;31mTypeError\u001b[0m                                 Traceback (most recent call last)",
      "\u001b[1;32m~\\Anaconda3\\lib\\site-packages\\numpy\\lib\\histograms.py\u001b[0m in \u001b[0;36m_get_bin_edges\u001b[1;34m(a, bins, range, weights)\u001b[0m\n\u001b[0;32m    409\u001b[0m         \u001b[1;32mtry\u001b[0m\u001b[1;33m:\u001b[0m\u001b[1;33m\u001b[0m\u001b[1;33m\u001b[0m\u001b[0m\n\u001b[1;32m--> 410\u001b[1;33m             \u001b[0mn_equal_bins\u001b[0m \u001b[1;33m=\u001b[0m \u001b[0moperator\u001b[0m\u001b[1;33m.\u001b[0m\u001b[0mindex\u001b[0m\u001b[1;33m(\u001b[0m\u001b[0mbins\u001b[0m\u001b[1;33m)\u001b[0m\u001b[1;33m\u001b[0m\u001b[1;33m\u001b[0m\u001b[0m\n\u001b[0m\u001b[0;32m    411\u001b[0m         \u001b[1;32mexcept\u001b[0m \u001b[0mTypeError\u001b[0m\u001b[1;33m:\u001b[0m\u001b[1;33m\u001b[0m\u001b[1;33m\u001b[0m\u001b[0m\n",
      "\u001b[1;31mTypeError\u001b[0m: 'numpy.float64' object cannot be interpreted as an integer",
      "\nDuring handling of the above exception, another exception occurred:\n",
      "\u001b[1;31mTypeError\u001b[0m                                 Traceback (most recent call last)",
      "\u001b[1;32m<ipython-input-13-bb663199f353>\u001b[0m in \u001b[0;36m<module>\u001b[1;34m\u001b[0m\n\u001b[0;32m     24\u001b[0m \u001b[1;31m#plt.xticks(range(len(local)),max_name,rotation=90)\u001b[0m\u001b[1;33m\u001b[0m\u001b[1;33m\u001b[0m\u001b[1;33m\u001b[0m\u001b[0m\n\u001b[0;32m     25\u001b[0m \u001b[1;31m#plt.show()\u001b[0m\u001b[1;33m\u001b[0m\u001b[1;33m\u001b[0m\u001b[1;33m\u001b[0m\u001b[0m\n\u001b[1;32m---> 26\u001b[1;33m \u001b[0mhist\u001b[0m\u001b[1;33m=\u001b[0m\u001b[0mplt\u001b[0m\u001b[1;33m.\u001b[0m\u001b[0mhist\u001b[0m\u001b[1;33m(\u001b[0m\u001b[0mgrap\u001b[0m\u001b[1;33m,\u001b[0m\u001b[0mbins\u001b[0m\u001b[1;33m=\u001b[0m\u001b[0mcatch\u001b[0m\u001b[1;33m)\u001b[0m\u001b[1;33m\u001b[0m\u001b[1;33m\u001b[0m\u001b[0m\n\u001b[0m",
      "\u001b[1;32m~\\Anaconda3\\lib\\site-packages\\matplotlib\\pyplot.py\u001b[0m in \u001b[0;36mhist\u001b[1;34m(x, bins, range, density, weights, cumulative, bottom, histtype, align, orientation, rwidth, log, color, label, stacked, normed, data, **kwargs)\u001b[0m\n\u001b[0;32m   2634\u001b[0m         \u001b[0malign\u001b[0m\u001b[1;33m=\u001b[0m\u001b[0malign\u001b[0m\u001b[1;33m,\u001b[0m \u001b[0morientation\u001b[0m\u001b[1;33m=\u001b[0m\u001b[0morientation\u001b[0m\u001b[1;33m,\u001b[0m \u001b[0mrwidth\u001b[0m\u001b[1;33m=\u001b[0m\u001b[0mrwidth\u001b[0m\u001b[1;33m,\u001b[0m \u001b[0mlog\u001b[0m\u001b[1;33m=\u001b[0m\u001b[0mlog\u001b[0m\u001b[1;33m,\u001b[0m\u001b[1;33m\u001b[0m\u001b[1;33m\u001b[0m\u001b[0m\n\u001b[0;32m   2635\u001b[0m         \u001b[0mcolor\u001b[0m\u001b[1;33m=\u001b[0m\u001b[0mcolor\u001b[0m\u001b[1;33m,\u001b[0m \u001b[0mlabel\u001b[0m\u001b[1;33m=\u001b[0m\u001b[0mlabel\u001b[0m\u001b[1;33m,\u001b[0m \u001b[0mstacked\u001b[0m\u001b[1;33m=\u001b[0m\u001b[0mstacked\u001b[0m\u001b[1;33m,\u001b[0m \u001b[0mnormed\u001b[0m\u001b[1;33m=\u001b[0m\u001b[0mnormed\u001b[0m\u001b[1;33m,\u001b[0m\u001b[1;33m\u001b[0m\u001b[1;33m\u001b[0m\u001b[0m\n\u001b[1;32m-> 2636\u001b[1;33m         **({\"data\": data} if data is not None else {}), **kwargs)\n\u001b[0m\u001b[0;32m   2637\u001b[0m \u001b[1;33m\u001b[0m\u001b[0m\n\u001b[0;32m   2638\u001b[0m \u001b[1;33m\u001b[0m\u001b[0m\n",
      "\u001b[1;32m~\\Anaconda3\\lib\\site-packages\\matplotlib\\__init__.py\u001b[0m in \u001b[0;36minner\u001b[1;34m(ax, data, *args, **kwargs)\u001b[0m\n\u001b[0;32m   1587\u001b[0m     \u001b[1;32mdef\u001b[0m \u001b[0minner\u001b[0m\u001b[1;33m(\u001b[0m\u001b[0max\u001b[0m\u001b[1;33m,\u001b[0m \u001b[1;33m*\u001b[0m\u001b[0margs\u001b[0m\u001b[1;33m,\u001b[0m \u001b[0mdata\u001b[0m\u001b[1;33m=\u001b[0m\u001b[1;32mNone\u001b[0m\u001b[1;33m,\u001b[0m \u001b[1;33m**\u001b[0m\u001b[0mkwargs\u001b[0m\u001b[1;33m)\u001b[0m\u001b[1;33m:\u001b[0m\u001b[1;33m\u001b[0m\u001b[1;33m\u001b[0m\u001b[0m\n\u001b[0;32m   1588\u001b[0m         \u001b[1;32mif\u001b[0m \u001b[0mdata\u001b[0m \u001b[1;32mis\u001b[0m \u001b[1;32mNone\u001b[0m\u001b[1;33m:\u001b[0m\u001b[1;33m\u001b[0m\u001b[1;33m\u001b[0m\u001b[0m\n\u001b[1;32m-> 1589\u001b[1;33m             \u001b[1;32mreturn\u001b[0m \u001b[0mfunc\u001b[0m\u001b[1;33m(\u001b[0m\u001b[0max\u001b[0m\u001b[1;33m,\u001b[0m \u001b[1;33m*\u001b[0m\u001b[0mmap\u001b[0m\u001b[1;33m(\u001b[0m\u001b[0msanitize_sequence\u001b[0m\u001b[1;33m,\u001b[0m \u001b[0margs\u001b[0m\u001b[1;33m)\u001b[0m\u001b[1;33m,\u001b[0m \u001b[1;33m**\u001b[0m\u001b[0mkwargs\u001b[0m\u001b[1;33m)\u001b[0m\u001b[1;33m\u001b[0m\u001b[1;33m\u001b[0m\u001b[0m\n\u001b[0m\u001b[0;32m   1590\u001b[0m \u001b[1;33m\u001b[0m\u001b[0m\n\u001b[0;32m   1591\u001b[0m         \u001b[0mbound\u001b[0m \u001b[1;33m=\u001b[0m \u001b[0mnew_sig\u001b[0m\u001b[1;33m.\u001b[0m\u001b[0mbind\u001b[0m\u001b[1;33m(\u001b[0m\u001b[0max\u001b[0m\u001b[1;33m,\u001b[0m \u001b[1;33m*\u001b[0m\u001b[0margs\u001b[0m\u001b[1;33m,\u001b[0m \u001b[1;33m**\u001b[0m\u001b[0mkwargs\u001b[0m\u001b[1;33m)\u001b[0m\u001b[1;33m\u001b[0m\u001b[1;33m\u001b[0m\u001b[0m\n",
      "\u001b[1;32m~\\Anaconda3\\lib\\site-packages\\matplotlib\\axes\\_axes.py\u001b[0m in \u001b[0;36mhist\u001b[1;34m(self, x, bins, range, density, weights, cumulative, bottom, histtype, align, orientation, rwidth, log, color, label, stacked, normed, **kwargs)\u001b[0m\n\u001b[0;32m   6751\u001b[0m             \u001b[1;31m# this will automatically overwrite bins,\u001b[0m\u001b[1;33m\u001b[0m\u001b[1;33m\u001b[0m\u001b[1;33m\u001b[0m\u001b[0m\n\u001b[0;32m   6752\u001b[0m             \u001b[1;31m# so that each histogram uses the same bins\u001b[0m\u001b[1;33m\u001b[0m\u001b[1;33m\u001b[0m\u001b[1;33m\u001b[0m\u001b[0m\n\u001b[1;32m-> 6753\u001b[1;33m             \u001b[0mm\u001b[0m\u001b[1;33m,\u001b[0m \u001b[0mbins\u001b[0m \u001b[1;33m=\u001b[0m \u001b[0mnp\u001b[0m\u001b[1;33m.\u001b[0m\u001b[0mhistogram\u001b[0m\u001b[1;33m(\u001b[0m\u001b[0mx\u001b[0m\u001b[1;33m[\u001b[0m\u001b[0mi\u001b[0m\u001b[1;33m]\u001b[0m\u001b[1;33m,\u001b[0m \u001b[0mbins\u001b[0m\u001b[1;33m,\u001b[0m \u001b[0mweights\u001b[0m\u001b[1;33m=\u001b[0m\u001b[0mw\u001b[0m\u001b[1;33m[\u001b[0m\u001b[0mi\u001b[0m\u001b[1;33m]\u001b[0m\u001b[1;33m,\u001b[0m \u001b[1;33m**\u001b[0m\u001b[0mhist_kwargs\u001b[0m\u001b[1;33m)\u001b[0m\u001b[1;33m\u001b[0m\u001b[1;33m\u001b[0m\u001b[0m\n\u001b[0m\u001b[0;32m   6754\u001b[0m             \u001b[0mm\u001b[0m \u001b[1;33m=\u001b[0m \u001b[0mm\u001b[0m\u001b[1;33m.\u001b[0m\u001b[0mastype\u001b[0m\u001b[1;33m(\u001b[0m\u001b[0mfloat\u001b[0m\u001b[1;33m)\u001b[0m  \u001b[1;31m# causes problems later if it's an int\u001b[0m\u001b[1;33m\u001b[0m\u001b[1;33m\u001b[0m\u001b[0m\n\u001b[0;32m   6755\u001b[0m             \u001b[1;32mif\u001b[0m \u001b[0mmlast\u001b[0m \u001b[1;32mis\u001b[0m \u001b[1;32mNone\u001b[0m\u001b[1;33m:\u001b[0m\u001b[1;33m\u001b[0m\u001b[1;33m\u001b[0m\u001b[0m\n",
      "\u001b[1;32m~\\Anaconda3\\lib\\site-packages\\numpy\\lib\\histograms.py\u001b[0m in \u001b[0;36mhistogram\u001b[1;34m(a, bins, range, normed, weights, density)\u001b[0m\n\u001b[0;32m    778\u001b[0m     \u001b[0ma\u001b[0m\u001b[1;33m,\u001b[0m \u001b[0mweights\u001b[0m \u001b[1;33m=\u001b[0m \u001b[0m_ravel_and_check_weights\u001b[0m\u001b[1;33m(\u001b[0m\u001b[0ma\u001b[0m\u001b[1;33m,\u001b[0m \u001b[0mweights\u001b[0m\u001b[1;33m)\u001b[0m\u001b[1;33m\u001b[0m\u001b[1;33m\u001b[0m\u001b[0m\n\u001b[0;32m    779\u001b[0m \u001b[1;33m\u001b[0m\u001b[0m\n\u001b[1;32m--> 780\u001b[1;33m     \u001b[0mbin_edges\u001b[0m\u001b[1;33m,\u001b[0m \u001b[0muniform_bins\u001b[0m \u001b[1;33m=\u001b[0m \u001b[0m_get_bin_edges\u001b[0m\u001b[1;33m(\u001b[0m\u001b[0ma\u001b[0m\u001b[1;33m,\u001b[0m \u001b[0mbins\u001b[0m\u001b[1;33m,\u001b[0m \u001b[0mrange\u001b[0m\u001b[1;33m,\u001b[0m \u001b[0mweights\u001b[0m\u001b[1;33m)\u001b[0m\u001b[1;33m\u001b[0m\u001b[1;33m\u001b[0m\u001b[0m\n\u001b[0m\u001b[0;32m    781\u001b[0m \u001b[1;33m\u001b[0m\u001b[0m\n\u001b[0;32m    782\u001b[0m     \u001b[1;31m# Histogram is an integer or a float array depending on the weights.\u001b[0m\u001b[1;33m\u001b[0m\u001b[1;33m\u001b[0m\u001b[1;33m\u001b[0m\u001b[0m\n",
      "\u001b[1;32m~\\Anaconda3\\lib\\site-packages\\numpy\\lib\\histograms.py\u001b[0m in \u001b[0;36m_get_bin_edges\u001b[1;34m(a, bins, range, weights)\u001b[0m\n\u001b[0;32m    411\u001b[0m         \u001b[1;32mexcept\u001b[0m \u001b[0mTypeError\u001b[0m\u001b[1;33m:\u001b[0m\u001b[1;33m\u001b[0m\u001b[1;33m\u001b[0m\u001b[0m\n\u001b[0;32m    412\u001b[0m             raise TypeError(\n\u001b[1;32m--> 413\u001b[1;33m                 '`bins` must be an integer, a string, or an array')\n\u001b[0m\u001b[0;32m    414\u001b[0m         \u001b[1;32mif\u001b[0m \u001b[0mn_equal_bins\u001b[0m \u001b[1;33m<\u001b[0m \u001b[1;36m1\u001b[0m\u001b[1;33m:\u001b[0m\u001b[1;33m\u001b[0m\u001b[1;33m\u001b[0m\u001b[0m\n\u001b[0;32m    415\u001b[0m             \u001b[1;32mraise\u001b[0m \u001b[0mValueError\u001b[0m\u001b[1;33m(\u001b[0m\u001b[1;34m'`bins` must be positive, when an integer'\u001b[0m\u001b[1;33m)\u001b[0m\u001b[1;33m\u001b[0m\u001b[1;33m\u001b[0m\u001b[0m\n",
      "\u001b[1;31mTypeError\u001b[0m: `bins` must be an integer, a string, or an array"
     ]
    },
    {
     "data": {
      "image/png": "[encoded data removed]",
      "text/plain": [
       "<Figure size 432x288 with 1 Axes>"
      ]
     },
     "metadata": {
      "needs_background": "light"
     },
     "output_type": "display_data"
    }
   ],
   "source": [
    "#서울시 각 구의 총 범죄 발생 건수   \n",
    "a=0\n",
    "j=0\n",
    "y=0\n",
    "for j in range(len(local)):\n",
    "    print()\n",
    "    a=0\n",
    "    y=0\n",
    "    for i in range(2011,2019):\n",
    "        seoul=crimedata[crimedata['구분']==local[j]]\n",
    "        seoul=seoul[seoul['년도']== i]\n",
    "        seoul=seoul[seoul['발생검거']=='발생']\n",
    "        a += seoul['건수'].sum()\n",
    "        \n",
    "        seoul=crimedata[crimedata['구분']==local[j]]\n",
    "        seoul=seoul[seoul['년도']== i]\n",
    "        seoul=seoul[seoul['발생검거']=='검거']\n",
    "        y += seoul['건수'].sum()\n",
    "    catch = round(y/a*100,2)\n",
    "    print(local[j],\"검거율\",':',catch,'%')\n",
    "    grap=np.array(catch)\n",
    "#plt.bar(range(len(local)),)\n",
    "#plt.rc('font',family='Malgun Gothic')\n",
    "#plt.xticks(range(len(local)),max_name,rotation=90)\n",
    "#plt.show()\n",
    "hist=plt.hist(grap,bins=catch)"
   ]
  },
  {
   "cell_type": "code",
   "execution_count": 14,
   "metadata": {},
   "outputs": [
    {
     "name": "stdout",
     "output_type": "stream",
     "text": [
      "\n",
      "성동 검거율 :  64.65 %\n",
      "\n",
      "도봉 검거율 :  67.92 %\n",
      "\n",
      "혜화 검거율 :  66.44 %\n",
      "\n",
      "강서 검거율 :  67.41 %\n",
      "\n",
      "영등포 검거율 :  61.89 %\n",
      "\n",
      "관악 검거율 :  61.29 %\n",
      "\n",
      "종암 검거율 :  67.68 %\n",
      "\n",
      "노원 검거율 :  65.34 %\n",
      "\n",
      "양천 검거율 :  62.14 %\n",
      "\n",
      "용산 검거율 :  66.81 %\n",
      "\n",
      "서대문 검거율 :  65.13 %\n",
      "\n",
      "중랑 검거율 :  69.33 %\n",
      "\n",
      "남대문 검거율 :  66.32 %\n",
      "\n",
      "강남 검거율 :  62.25 %\n",
      "\n",
      "구로 검거율 :  63.18 %\n",
      "\n",
      "방배 검거율 :  62.58 %\n",
      "\n",
      "서부 검거율 :  68.84 %\n",
      "\n",
      "금천 검거율 :  71.48 %\n",
      "\n",
      "동작 검거율 :  60.39 %\n",
      "\n",
      "송파 검거율 :  56.56 %\n",
      "\n",
      "마포 검거율 :  60.51 %\n",
      "\n",
      "종로 검거율 :  67.32 %\n",
      "\n",
      "강동 검거율 :  64.76 %\n",
      "\n",
      "동대문 검거율 :  69.31 %\n",
      "\n",
      "수서 검거율 :  63.39 %\n",
      "\n",
      "은평 검거율 :  68.19 %\n",
      "\n",
      "성북 검거율 :  64.37 %\n",
      "\n",
      "강북 검거율 :  73.96 %\n",
      "\n",
      "광진 검거율 :  63.39 %\n",
      "\n",
      "서초 검거율 :  62.04 %\n",
      "\n",
      "중부 검거율 :  61.67 %\n"
     ]
    }
   ],
   "source": [
    "#서울시 각 구의 총 범죄 발생 건수   \n",
    "a=0\n",
    "j=0\n",
    "y=0\n",
    "for j in range(len(local)):\n",
    "    print()\n",
    "    a=0\n",
    "    y=0\n",
    "    for i in range(2011,2019):\n",
    "        seoul=crimedata[crimedata['구분']==local[j]]\n",
    "        seoul=seoul[seoul['년도']== i]\n",
    "        seoul=seoul[seoul['발생검거']=='발생']\n",
    "        a += seoul['건수'].sum()\n",
    "        \n",
    "        seoul=crimedata[crimedata['구분']==local[j]]\n",
    "        seoul=seoul[seoul['년도']== i]\n",
    "        seoul=seoul[seoul['발생검거']=='검거']\n",
    "        y += seoul['건수'].sum()\n",
    "        \n",
    "    print(local[j],\"검거율 : \",round(y/a*100,2),'%')\n",
    "mylist=[]\n"
   ]
  },
  {
   "cell_type": "code",
   "execution_count": null,
   "metadata": {},
   "outputs": [],
   "source": []
  }
 ],
 "metadata": {
  "kernelspec": {
   "display_name": "Python 3",
   "language": "python",
   "name": "python3"
  },
  "language_info": {
   "codemirror_mode": {
    "name": "ipython",
    "version": 3
   },
   "file_extension": ".py",
   "mimetype": "text/x-python",
   "name": "python",
   "nbconvert_exporter": "python",
   "pygments_lexer": "ipython3",
   "version": "3.7.3"
  }
 },
 "nbformat": 4,
 "nbformat_minor": 2
}
