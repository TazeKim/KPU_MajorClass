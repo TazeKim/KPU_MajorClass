{
 "cells": [
  {
   "cell_type": "code",
   "execution_count": 2,
   "metadata": {},
   "outputs": [],
   "source": [
    "import numpy as np\n",
    "import pandas as pd"
   ]
  },
  {
   "cell_type": "code",
   "execution_count": 3,
   "metadata": {},
   "outputs": [
    {
     "data": {
      "text/html": [
       "<div>\n",
       "<style scoped>\n",
       "    .dataframe tbody tr th:only-of-type {\n",
       "        vertical-align: middle;\n",
       "    }\n",
       "\n",
       "    .dataframe tbody tr th {\n",
       "        vertical-align: top;\n",
       "    }\n",
       "\n",
       "    .dataframe thead th {\n",
       "        text-align: right;\n",
       "    }\n",
       "</style>\n",
       "<table border=\"1\" class=\"dataframe\">\n",
       "  <thead>\n",
       "    <tr style=\"text-align: right;\">\n",
       "      <th></th>\n",
       "      <th>년도</th>\n",
       "      <th>구분</th>\n",
       "      <th>죄종</th>\n",
       "      <th>발생검거</th>\n",
       "      <th>건수</th>\n",
       "    </tr>\n",
       "  </thead>\n",
       "  <tbody>\n",
       "    <tr>\n",
       "      <th>0</th>\n",
       "      <td>2011</td>\n",
       "      <td>중부</td>\n",
       "      <td>살인</td>\n",
       "      <td>발생</td>\n",
       "      <td>2</td>\n",
       "    </tr>\n",
       "    <tr>\n",
       "      <th>1</th>\n",
       "      <td>2011</td>\n",
       "      <td>중부</td>\n",
       "      <td>살인</td>\n",
       "      <td>검거</td>\n",
       "      <td>3</td>\n",
       "    </tr>\n",
       "    <tr>\n",
       "      <th>2</th>\n",
       "      <td>2011</td>\n",
       "      <td>중부</td>\n",
       "      <td>강도</td>\n",
       "      <td>발생</td>\n",
       "      <td>14</td>\n",
       "    </tr>\n",
       "    <tr>\n",
       "      <th>3</th>\n",
       "      <td>2011</td>\n",
       "      <td>중부</td>\n",
       "      <td>강도</td>\n",
       "      <td>검거</td>\n",
       "      <td>19</td>\n",
       "    </tr>\n",
       "    <tr>\n",
       "      <th>4</th>\n",
       "      <td>2011</td>\n",
       "      <td>중부</td>\n",
       "      <td>강간</td>\n",
       "      <td>발생</td>\n",
       "      <td>89</td>\n",
       "    </tr>\n",
       "  </tbody>\n",
       "</table>\n",
       "</div>"
      ],
      "text/plain": [
       "     년도  구분  죄종 발생검거  건수\n",
       "0  2011  중부  살인   발생   2\n",
       "1  2011  중부  살인   검거   3\n",
       "2  2011  중부  강도   발생  14\n",
       "3  2011  중부  강도   검거  19\n",
       "4  2011  중부  강간   발생  89"
      ]
     },
     "execution_count": 3,
     "metadata": {},
     "output_type": "execute_result"
    }
   ],
   "source": [
    "crime_data = pd.read_csv('Crime_data.csv',encoding='cp949')\n",
    "crime_data.head()"
   ]
  },
  {
   "cell_type": "code",
   "execution_count": 4,
   "metadata": {},
   "outputs": [],
   "source": [
    "#crime_data['죄종'].unique()"
   ]
  },
  {
   "cell_type": "code",
   "execution_count": 5,
   "metadata": {},
   "outputs": [],
   "source": [
    "#middle=crime_data[crime_data['구분']=='중부']\n",
    "#middle=middle[middle['년도']==2011]\n",
    "#middle=middle[middle['발생검거']=='발생']\n",
    "#middle['건수'].sum()"
   ]
  },
  {
   "cell_type": "code",
   "execution_count": 6,
   "metadata": {
    "scrolled": true
   },
   "outputs": [],
   "source": [
    "#crimedata['구분'].unique()"
   ]
  },
  {
   "cell_type": "code",
   "execution_count": 7,
   "metadata": {},
   "outputs": [
    {
     "data": {
      "text/plain": [
       "range(0, 31)"
      ]
     },
     "execution_count": 7,
     "metadata": {},
     "output_type": "execute_result"
    }
   ],
   "source": [
    "local=list(set(crime_data['구분']))\n",
    "len(local)\n",
    "range(len(local))"
   ]
  },
  {
   "cell_type": "code",
   "execution_count": 8,
   "metadata": {},
   "outputs": [],
   "source": [
    "#year=list(set(crimedata['년도']))\n",
    "#year.sort()\n",
    "#print(year)"
   ]
  },
  {
   "cell_type": "code",
   "execution_count": 9,
   "metadata": {},
   "outputs": [],
   "source": [
    "#years=range(2011,2019)"
   ]
  },
  {
   "cell_type": "code",
   "execution_count": 10,
   "metadata": {},
   "outputs": [
    {
     "name": "stdout",
     "output_type": "stream",
     "text": [
      "\n",
      "은평 : 22122\n",
      "\n",
      "강동 : 40146\n",
      "\n",
      "혜화 : 18234\n",
      "\n",
      "영등포 : 53370\n",
      "\n",
      "동작 : 30069\n",
      "\n",
      "구로 : 43618\n",
      "\n",
      "성북 : 17862\n",
      "\n",
      "서대문 : 30509\n",
      "\n",
      "강남 : 43415\n",
      "\n",
      "성동 : 25217\n",
      "\n",
      "종로 : 18826\n",
      "\n",
      "노원 : 38231\n",
      "\n",
      "마포 : 44483\n",
      "\n",
      "남대문 : 15988\n",
      "\n",
      "금천 : 29973\n",
      "\n",
      "서부 : 16259\n",
      "\n",
      "강북 : 32050\n",
      "\n",
      "서초 : 32168\n",
      "\n",
      "양천 : 34620\n",
      "\n",
      "관악 : 50438\n",
      "\n",
      "동대문 : 36678\n",
      "\n",
      "광진 : 44020\n",
      "\n",
      "도봉 : 22563\n",
      "\n",
      "송파 : 55392\n",
      "\n",
      "강서 : 44602\n",
      "\n",
      "수서 : 27209\n",
      "\n",
      "용산 : 31375\n",
      "\n",
      "중랑 : 41421\n",
      "\n",
      "종암 : 14964\n",
      "\n",
      "중부 : 22597\n",
      "\n",
      "방배 : 9898\n"
     ]
    }
   ],
   "source": [
    "#서울시 각 구의 총 범죄 발생 건수\n",
    "a=0\n",
    "j=0\n",
    "for j in range(len(local)):\n",
    "    print()\n",
    "    a=0\n",
    "    for i in range(2011,2019):\n",
    "        seoul=crime_data[crime_data['구분']==local[j]]\n",
    "        seoul=seoul[seoul['년도']== i]\n",
    "        seoul=seoul[seoul['발생검거']=='발생']\n",
    "        a += seoul['건수'].sum()\n",
    "    print(local[j],':',a)"
   ]
  },
  {
   "cell_type": "code",
   "execution_count": 11,
   "metadata": {},
   "outputs": [
    {
     "name": "stdout",
     "output_type": "stream",
     "text": [
      "2011~2018년간 서울시 전체 범죄사건 발생 건수 : 988317\n"
     ]
    }
   ],
   "source": [
    "#서울시 전체 범죄 발생 건수\n",
    "a=0\n",
    "j=0\n",
    "for j in range(len(local)):\n",
    "    for i in range(2011,2019):\n",
    "        seoulcity=crime_data[crime_data['구분']==local[j]]\n",
    "        seoulcity=seoulcity[seoulcity['년도']== i]\n",
    "        seoulcity=seoulcity[seoulcity['발생검거']=='발생']\n",
    "        a += seoulcity['건수'].sum()\n",
    "print(\"2011~2018년간 서울시 전체 범죄사건 발생 건수 :\",a)"
   ]
  },
  {
   "cell_type": "code",
   "execution_count": 18,
   "metadata": {},
   "outputs": [
    {
     "name": "stdout",
     "output_type": "stream",
     "text": [
      "서울시 각 구의 총 범죄 검거 건수\n",
      "\n",
      "은평 : 22122\n",
      "\n",
      "강동 : 40146\n",
      "\n",
      "혜화 : 18234\n",
      "\n",
      "영등포 : 53370\n",
      "\n",
      "동작 : 30069\n",
      "\n",
      "구로 : 43618\n",
      "\n",
      "성북 : 17862\n",
      "\n",
      "서대문 : 30509\n",
      "\n",
      "강남 : 43415\n",
      "\n",
      "성동 : 25217\n",
      "\n",
      "종로 : 18826\n",
      "\n",
      "노원 : 38231\n",
      "\n",
      "마포 : 44483\n",
      "\n",
      "남대문 : 15988\n",
      "\n",
      "금천 : 29973\n",
      "\n",
      "서부 : 16259\n",
      "\n",
      "강북 : 32050\n",
      "\n",
      "서초 : 32168\n",
      "\n",
      "양천 : 34620\n",
      "\n",
      "관악 : 50438\n",
      "\n",
      "동대문 : 36678\n",
      "\n",
      "광진 : 44020\n",
      "\n",
      "도봉 : 22563\n",
      "\n",
      "송파 : 55392\n",
      "\n",
      "강서 : 44602\n",
      "\n",
      "수서 : 27209\n",
      "\n",
      "용산 : 31375\n",
      "\n",
      "중랑 : 41421\n",
      "\n",
      "종암 : 14964\n",
      "\n",
      "중부 : 22597\n",
      "\n",
      "방배 : 9898\n"
     ]
    }
   ],
   "source": [
    "#서울시 전체 범죄 발생 건수\n",
    "y=0\n",
    "j=0\n",
    "print(\"서울시 각 구의 총 범죄 검거 건수\")\n",
    "for j in range(len(local)):\n",
    "    print()\n",
    "    y=0\n",
    "    for i in range(2011,2019):\n",
    "        seoul=crime_data[crime_data['구분']==local[j]]\n",
    "        seoul=seoul[seoul['년도']== i]\n",
    "        seoul=seoul[seoul['발생검거']=='발생']\n",
    "        y += seoul['건수'].sum()\n",
    "    print(local[j],':',y)"
   ]
  },
  {
   "cell_type": "code",
   "execution_count": 17,
   "metadata": {},
   "outputs": [
    {
     "name": "stdout",
     "output_type": "stream",
     "text": [
      "서울시 각 구의 총 범죄 검거 건수\n",
      "\n",
      "은평 : 15085\n",
      "\n",
      "강동 : 25998\n",
      "\n",
      "혜화 : 12114\n",
      "\n",
      "영등포 : 33030\n",
      "\n",
      "동작 : 18159\n",
      "\n",
      "구로 : 27560\n",
      "\n",
      "성북 : 11498\n",
      "\n",
      "서대문 : 19872\n",
      "\n",
      "강남 : 27027\n",
      "\n",
      "성동 : 16302\n",
      "\n",
      "종로 : 12673\n",
      "\n",
      "노원 : 24981\n",
      "\n",
      "마포 : 26918\n",
      "\n",
      "남대문 : 10603\n",
      "\n",
      "금천 : 21424\n",
      "\n",
      "서부 : 11193\n",
      "\n",
      "강북 : 23704\n",
      "\n",
      "서초 : 19958\n",
      "\n",
      "양천 : 21514\n",
      "\n",
      "관악 : 30915\n",
      "\n",
      "동대문 : 25420\n",
      "\n",
      "광진 : 27906\n",
      "\n",
      "도봉 : 15324\n",
      "\n",
      "송파 : 31332\n",
      "\n",
      "강서 : 30065\n",
      "\n",
      "수서 : 17247\n",
      "\n",
      "용산 : 20962\n",
      "\n",
      "중랑 : 28718\n",
      "\n",
      "종암 : 10128\n",
      "\n",
      "중부 : 13935\n",
      "\n",
      "방배 : 6194\n"
     ]
    }
   ],
   "source": [
    "#서울시 각 구의 총 범죄 검거 건수\n",
    "y=0\n",
    "j=0\n",
    "print(\"서울시 각 구의 총 범죄 검거 건수\")\n",
    "for j in range(len(local)):\n",
    "    print()\n",
    "    y=0\n",
    "    for i in range(2011,2019):\n",
    "        seoul=crime_data[crime_data['구분']==local[j]]\n",
    "        seoul=seoul[seoul['년도']== i]\n",
    "        seoul=seoul[seoul['발생검거']=='검거']\n",
    "        y += seoul['건수'].sum()\n",
    "    print(local[j],':',y)"
   ]
  },
  {
   "cell_type": "code",
   "execution_count": 15,
   "metadata": {},
   "outputs": [
    {
     "ename": "NameError",
     "evalue": "name 'crimedata' is not defined",
     "output_type": "error",
     "traceback": [
      "\u001b[1;31m---------------------------------------------------------------------------\u001b[0m",
      "\u001b[1;31mNameError\u001b[0m                                 Traceback (most recent call last)",
      "\u001b[1;32m<ipython-input-15-c065320b1202>\u001b[0m in \u001b[0;36m<module>\u001b[1;34m\u001b[0m\n\u001b[0;32m      1\u001b[0m \u001b[0mb\u001b[0m\u001b[1;33m=\u001b[0m\u001b[1;36m0\u001b[0m\u001b[1;33m\u001b[0m\u001b[1;33m\u001b[0m\u001b[0m\n\u001b[0;32m      2\u001b[0m \u001b[1;32mfor\u001b[0m \u001b[0mi\u001b[0m \u001b[1;32min\u001b[0m \u001b[0mrange\u001b[0m\u001b[1;33m(\u001b[0m\u001b[1;36m2011\u001b[0m\u001b[1;33m,\u001b[0m\u001b[1;36m2019\u001b[0m\u001b[1;33m)\u001b[0m\u001b[1;33m:\u001b[0m\u001b[1;33m\u001b[0m\u001b[1;33m\u001b[0m\u001b[0m\n\u001b[1;32m----> 3\u001b[1;33m     \u001b[0mjongro\u001b[0m\u001b[1;33m=\u001b[0m\u001b[0mcrimedata\u001b[0m\u001b[1;33m[\u001b[0m\u001b[0mcrimedata\u001b[0m\u001b[1;33m[\u001b[0m\u001b[1;34m'구분'\u001b[0m\u001b[1;33m]\u001b[0m\u001b[1;33m==\u001b[0m\u001b[1;34m'종로'\u001b[0m\u001b[1;33m]\u001b[0m\u001b[1;33m\u001b[0m\u001b[1;33m\u001b[0m\u001b[0m\n\u001b[0m\u001b[0;32m      4\u001b[0m     \u001b[0mjongro\u001b[0m\u001b[1;33m=\u001b[0m\u001b[0mjongro\u001b[0m\u001b[1;33m[\u001b[0m\u001b[0mjongro\u001b[0m\u001b[1;33m[\u001b[0m\u001b[1;34m'년도'\u001b[0m\u001b[1;33m]\u001b[0m\u001b[1;33m==\u001b[0m \u001b[0mi\u001b[0m\u001b[1;33m]\u001b[0m\u001b[1;33m\u001b[0m\u001b[1;33m\u001b[0m\u001b[0m\n\u001b[0;32m      5\u001b[0m     \u001b[0mjongro\u001b[0m\u001b[1;33m=\u001b[0m\u001b[0mjongro\u001b[0m\u001b[1;33m[\u001b[0m\u001b[0mjongro\u001b[0m\u001b[1;33m[\u001b[0m\u001b[1;34m'발생검거'\u001b[0m\u001b[1;33m]\u001b[0m\u001b[1;33m==\u001b[0m\u001b[1;34m'검거'\u001b[0m\u001b[1;33m]\u001b[0m\u001b[1;33m\u001b[0m\u001b[1;33m\u001b[0m\u001b[0m\n",
      "\u001b[1;31mNameError\u001b[0m: name 'crimedata' is not defined"
     ]
    }
   ],
   "source": [
    "b=0\n",
    "for i in range(2011,2019):\n",
    "    jongro=crimedata[crimedata['구분']=='종로']\n",
    "    jongro=jongro[jongro['년도']== i]\n",
    "    jongro=jongro[jongro['발생검거']=='검거']\n",
    "    b += jongro['건수'].sum()\n",
    "print(\"2011 ~ 2018년간 종로 범죄사건 검거 건수 :\",b)\n"
   ]
  },
  {
   "cell_type": "code",
   "execution_count": null,
   "metadata": {},
   "outputs": [],
   "source": [
    "c = b/a\n",
    "print(\"종로의 총 검거율 : \")\n",
    "round(c,2)"
   ]
  },
  {
   "cell_type": "code",
   "execution_count": 22,
   "metadata": {},
   "outputs": [
    {
     "name": "stdout",
     "output_type": "stream",
     "text": [
      "남대문\n"
     ]
    },
    {
     "data": {
      "text/plain": [
       "2097"
      ]
     },
     "execution_count": 22,
     "metadata": {},
     "output_type": "execute_result"
    }
   ],
   "source": [
    "nam=crimedata[crimedata['구분']=='남대문']\n",
    "nam=nam[nam['년도']==2011]\n",
    "nam=nam[nam['발생검거']=='발생']\n",
    "print(\"남대문\")\n",
    "nam['건수'].sum()"
   ]
  },
  {
   "cell_type": "code",
   "execution_count": 19,
   "metadata": {},
   "outputs": [
    {
     "name": "stdout",
     "output_type": "stream",
     "text": [
      "\n",
      "은평 검거율 : 68.19 %\n",
      "\n",
      "강동 검거율 : 64.76 %\n",
      "\n",
      "혜화 검거율 : 66.44 %\n",
      "\n",
      "영등포 검거율 : 61.89 %\n",
      "\n",
      "동작 검거율 : 60.39 %\n",
      "\n",
      "구로 검거율 : 63.18 %\n",
      "\n",
      "성북 검거율 : 64.37 %\n",
      "\n",
      "서대문 검거율 : 65.13 %\n",
      "\n",
      "강남 검거율 : 62.25 %\n",
      "\n",
      "성동 검거율 : 64.65 %\n",
      "\n",
      "종로 검거율 : 67.32 %\n",
      "\n",
      "노원 검거율 : 65.34 %\n",
      "\n",
      "마포 검거율 : 60.51 %\n",
      "\n",
      "남대문 검거율 : 66.32 %\n",
      "\n",
      "금천 검거율 : 71.48 %\n",
      "\n",
      "서부 검거율 : 68.84 %\n",
      "\n",
      "강북 검거율 : 73.96 %\n",
      "\n",
      "서초 검거율 : 62.04 %\n",
      "\n",
      "양천 검거율 : 62.14 %\n",
      "\n",
      "관악 검거율 : 61.29 %\n",
      "\n",
      "동대문 검거율 : 69.31 %\n",
      "\n",
      "광진 검거율 : 63.39 %\n",
      "\n",
      "도봉 검거율 : 67.92 %\n",
      "\n",
      "송파 검거율 : 56.56 %\n",
      "\n",
      "강서 검거율 : 67.41 %\n",
      "\n",
      "수서 검거율 : 63.39 %\n",
      "\n",
      "용산 검거율 : 66.81 %\n",
      "\n",
      "중랑 검거율 : 69.33 %\n",
      "\n",
      "종암 검거율 : 67.68 %\n",
      "\n",
      "중부 검거율 : 61.67 %\n",
      "\n",
      "방배 검거율 : 62.58 %\n"
     ]
    }
   ],
   "source": [
    "#서울시 각 구의 총 범죄 발생 건수   \n",
    "a=0\n",
    "j=0\n",
    "y=0\n",
    "for j in range(len(local)):\n",
    "    print()\n",
    "    a=0\n",
    "    y=0\n",
    "    for i in range(2011,2019):\n",
    "        seoul=crime_data[crime_data['구분']==local[j]]\n",
    "        seoul=seoul[seoul['년도']== i]\n",
    "        seoul=seoul[seoul['발생검거']=='발생']\n",
    "        a += seoul['건수'].sum()\n",
    "        \n",
    "        seoul=crime_data[crime_data['구분']==local[j]]\n",
    "        seoul=seoul[seoul['년도']== i]\n",
    "        seoul=seoul[seoul['발생검거']=='검거']\n",
    "        y += seoul['건수'].sum()\n",
    "        \n",
    "    print(local[j],\"검거율\",':',round(y/a*100,2),'%')"
   ]
  },
  {
   "cell_type": "code",
   "execution_count": null,
   "metadata": {},
   "outputs": [],
   "source": []
  }
 ],
 "metadata": {
  "kernelspec": {
   "display_name": "Python 3",
   "language": "python",
   "name": "python3"
  },
  "language_info": {
   "codemirror_mode": {
    "name": "ipython",
    "version": 3
   },
   "file_extension": ".py",
   "mimetype": "text/x-python",
   "name": "python",
   "nbconvert_exporter": "python",
   "pygments_lexer": "ipython3",
   "version": "3.7.3"
  }
 },
 "nbformat": 4,
 "nbformat_minor": 2
}
